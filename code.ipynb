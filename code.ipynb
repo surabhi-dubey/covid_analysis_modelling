{
  "nbformat": 4,
  "nbformat_minor": 0,
  "metadata": {
    "language_info": {
      "name": "python",
      "version": "3.7.9",
      "mimetype": "text/x-python",
      "codemirror_mode": {
        "name": "ipython",
        "version": 3
      },
      "pygments_lexer": "ipython3",
      "nbconvert_exporter": "python",
      "file_extension": ".py"
    },
    "kernelspec": {
      "language": "python",
      "display_name": "Python 3",
      "name": "python3"
    },
    "colab": {
      "name": "code.ipynb",
      "provenance": [],
      "collapsed_sections": []
    }
  },
  "cells": [
    {
      "cell_type": "code",
      "metadata": {
        "_uuid": "8f2839f25d086af736a60e9eeb907d3b93b6e0e5",
        "_cell_guid": "b1076dfc-b9ad-4769-8c92-a6c4dae69d19",
        "trusted": true,
        "id": "i8gvPgUf52Hl"
      },
      "source": [
        "# Import Libraries\n",
        "import matplotlib.pyplot as plt\n",
        "import numpy as np\n",
        "import pandas as pd"
      ],
      "execution_count": null,
      "outputs": []
    },
    {
      "cell_type": "code",
      "metadata": {
        "trusted": true,
        "id": "jL_6KOn-52IC"
      },
      "source": [
        "# Get the list of all the pre-installed libraries\n",
        "!pip list >> requirements.txt"
      ],
      "execution_count": null,
      "outputs": []
    },
    {
      "cell_type": "markdown",
      "metadata": {
        "id": "sIC7hzaj52IE"
      },
      "source": [
        "# DATA UNDERSTANDING"
      ]
    },
    {
      "cell_type": "code",
      "metadata": {
        "trusted": true,
        "id": "vG4TFhSk52IF"
      },
      "source": [
        "# Reading the data\n",
        "df = pd.read_csv(\"../input/novel-corona-virus-2019-dataset/covid_19_data.csv\")\n",
        "\n",
        "# Printing no. of rows & cols\n",
        "num_rows = df.shape[0]\n",
        "num_cols = df.shape[1]\n",
        "\n",
        "print(\" \")\n",
        "print(\"Total no. of rows & cols: \", num_rows, num_cols)\n",
        "print(\"No. of countries:\", df[\"Country/Region\"].nunique())\n",
        "print(\"--------------------------------------\")\n",
        "df.head()"
      ],
      "execution_count": null,
      "outputs": []
    },
    {
      "cell_type": "code",
      "metadata": {
        "trusted": true,
        "id": "uX8GNriV52IH"
      },
      "source": [
        "df.hist()"
      ],
      "execution_count": null,
      "outputs": []
    },
    {
      "cell_type": "markdown",
      "metadata": {
        "id": "BSiH-9iY52IH"
      },
      "source": [
        "# DATA CLEANING"
      ]
    },
    {
      "cell_type": "code",
      "metadata": {
        "trusted": true,
        "id": "muZHZvv752II"
      },
      "source": [
        "\"\"\"\n",
        "OBSERVATIONS FROM BELOW RESULT: \n",
        "1. min() shows that there are -ve numbers in cases => to be removed\n",
        "\"\"\"\n",
        "df.describe()"
      ],
      "execution_count": null,
      "outputs": []
    },
    {
      "cell_type": "code",
      "metadata": {
        "trusted": true,
        "id": "b0wDpW0d52IJ"
      },
      "source": [
        "\"\"\"\n",
        "OBSERVATIONS FROM BELOW RESULT: \n",
        "2. Province/State has fewer non-null entries than other cols. Hence, have to fill that up with an empty string ''\n",
        "3. ObservationDate is a \"string\"; have to convert to date to make it uniform\n",
        "4. Dropping unncecessary column - Sno, Last Update\n",
        "5. #5, 6, 7 are integers and not floating point\n",
        "\"\"\"\n",
        "df.info()"
      ],
      "execution_count": null,
      "outputs": []
    },
    {
      "cell_type": "code",
      "metadata": {
        "trusted": true,
        "id": "S9yd3Jcu52IK"
      },
      "source": [
        "\"\"\"\n",
        "Making the above corrections\n",
        "\"\"\"\n",
        "df_proc = df.copy(deep=True)\n",
        "\n",
        "# 1. Remove rows with negative numbers in cols\n",
        "cond = (\n",
        "    (df_proc[\"Deaths\"] >= 0) & (df_proc[\"Confirmed\"] >= 0) & (df_proc[\"Recovered\"] >= 0)\n",
        ")\n",
        "df_proc = df_proc[cond]\n",
        "\n",
        "# 2. Filling null entries\n",
        "df_proc[[\"Province/State\"]] = df_proc[[\"Province/State\"]].fillna(\"\")\n",
        "df_proc[[\"Confirmed\", \"Deaths\", \"Recovered\"]] = df_proc[\n",
        "    [\"Confirmed\", \"Deaths\", \"Recovered\"]\n",
        "].fillna(0)\n",
        "\n",
        "# 3. Converting to standard date format\n",
        "df_proc[\"ObservationDate\"] = pd.to_datetime(df_proc[\"ObservationDate\"])\n",
        "\n",
        "# 4. Dropping unnecessary columns\n",
        "df_proc.drop([\"SNo\", \"Last Update\"], axis=1, inplace=True)\n",
        "\n",
        "# 5. Convert datatypes\n",
        "df_proc[[\"Confirmed\", \"Deaths\", \"Recovered\"]] = df_proc[\n",
        "    [\"Confirmed\", \"Deaths\", \"Recovered\"]\n",
        "].astype(\"int\")\n",
        "\n",
        "# Reset index\n",
        "df_proc = df_proc.reset_index()\n",
        "df_proc.drop([\"index\"], axis=1, inplace=True)"
      ],
      "execution_count": null,
      "outputs": []
    },
    {
      "cell_type": "code",
      "metadata": {
        "trusted": true,
        "id": "-D7H7-QU52IM"
      },
      "source": [
        "print(\"HENCE, WE CAN SEE ALL CHANGES BELOW\")\n",
        "print(\"------------------------------------\")\n",
        "print(\" \")\n",
        "display(df_proc.info())\n",
        "print(\" \")\n",
        "display(df_proc.describe())\n",
        "print(\" \")\n",
        "display(df_proc.head())"
      ],
      "execution_count": null,
      "outputs": []
    },
    {
      "cell_type": "markdown",
      "metadata": {
        "id": "kx7jcYgR52IN"
      },
      "source": [
        "# ANALYSIS"
      ]
    },
    {
      "cell_type": "markdown",
      "metadata": {
        "id": "UboTQKzn52IN"
      },
      "source": [
        "Q1) What is the worldwide impact of the virus, country-wise?"
      ]
    },
    {
      "cell_type": "code",
      "metadata": {
        "trusted": true,
        "id": "MjsHURyk52IO"
      },
      "source": [
        "# Get the sum of confirmed, deaths and recovered cases for each country\n",
        "temp = df_proc.groupby([\"Country/Region\"]).agg(\n",
        "    {\"Confirmed\": \"sum\", \"Deaths\": \"sum\", \"Recovered\": \"sum\"}\n",
        ")\n",
        "temp = temp.reset_index()\n",
        "temp\n",
        "# temp.head(227)"
      ],
      "execution_count": null,
      "outputs": []
    },
    {
      "cell_type": "markdown",
      "metadata": {
        "id": "SP2HJJM252IP"
      },
      "source": [
        "Q2) What are currently the top 10 countries having the most active cases and hence needing the most aid right now?"
      ]
    },
    {
      "cell_type": "code",
      "metadata": {
        "trusted": true,
        "id": "62UnQsRK52IP"
      },
      "source": [
        "# Calculating no. of active cases and sorting them in descending order\n",
        "temp[\"Active\"] = temp[\"Confirmed\"] - temp[\"Deaths\"] - temp[\"Recovered\"]\n",
        "temp_sort = temp.sort_values([\"Active\"], ascending=False).reset_index()\n",
        "temp_sort.drop(\"index\", axis=\"columns\", inplace=True)\n",
        "temp_sort.head(10)"
      ],
      "execution_count": null,
      "outputs": []
    },
    {
      "cell_type": "markdown",
      "metadata": {
        "id": "Ns-lq_YC52IR"
      },
      "source": [
        "Code to create stacked bar chart for top 10 countries with highest number of active cases."
      ]
    },
    {
      "cell_type": "code",
      "metadata": {
        "trusted": true,
        "id": "bT3JGSKN52IR"
      },
      "source": [
        "x = temp_sort[\"Country/Region\"].head(10)\n",
        "y1 = temp_sort[\"Confirmed\"].head(10)\n",
        "y2 = temp_sort[\"Deaths\"].head(10)\n",
        "y3 = temp_sort[\"Recovered\"].head(10)\n",
        "y4 = temp_sort[\"Active\"].head(10)\n",
        "f, ax = plt.subplots(figsize=(18, 5))\n",
        "\n",
        "plt.bar(x, y1, color=\"r\")\n",
        "plt.bar(x, y2, bottom=y1, color=\"b\")\n",
        "plt.bar(x, y3, bottom=y1 + y2, color=\"y\")\n",
        "plt.bar(x, y4, bottom=y1 + y2 + y3, color=\"g\")\n",
        "plt.xlabel(\"Countries\")\n",
        "plt.ylabel(\"No. of Cases\")\n",
        "plt.legend([\"Confirmed\", \"Deaths\", \"Recovered\", \"Active\"])\n",
        "plt.title(\"Top 10 countries with highest no. of active cases\")\n",
        "plt.show()"
      ],
      "execution_count": null,
      "outputs": []
    },
    {
      "cell_type": "markdown",
      "metadata": {
        "id": "H4wFASo652IS"
      },
      "source": [
        "Q3. Looking at India in more detail - how has the virus affected the largest democracy in the world?"
      ]
    },
    {
      "cell_type": "code",
      "metadata": {
        "trusted": true,
        "id": "Uw0daLsr52IT"
      },
      "source": [
        "# Filtering only India data\n",
        "df_India = df_proc[df_proc[\"Country/Region\"] == \"India\"].reset_index()\n",
        "df_India"
      ],
      "execution_count": null,
      "outputs": []
    },
    {
      "cell_type": "code",
      "metadata": {
        "trusted": true,
        "id": "fR-nf-fE52IU"
      },
      "source": [
        "# calculating sum of confirmed, deaths,recovered statewise\n",
        "df_India = df_India.groupby([\"Province/State\"]).agg(\n",
        "    {\"Confirmed\": \"sum\", \"Deaths\": \"sum\", \"Recovered\": \"sum\"}\n",
        ")\n",
        "df_India = df_India.reset_index()  # to make states as a column of the table\n",
        "df_India"
      ],
      "execution_count": null,
      "outputs": []
    },
    {
      "cell_type": "code",
      "metadata": {
        "trusted": true,
        "id": "Z4niRDt952IV"
      },
      "source": [
        "# calculating active no. of cases\n",
        "df_India[\"Active\"] = df_India[\"Confirmed\"] - df_India[\"Deaths\"] - df_India[\"Recovered\"]\n",
        "df_India"
      ],
      "execution_count": null,
      "outputs": []
    },
    {
      "cell_type": "code",
      "metadata": {
        "trusted": true,
        "id": "QEaU37mD52IV"
      },
      "source": [
        "# sorting states with highest no. of active cases\n",
        "df_India_sort = df_India.sort_values([\"Active\"], ascending=False).reset_index()\n",
        "df_India_sort"
      ],
      "execution_count": null,
      "outputs": []
    },
    {
      "cell_type": "code",
      "metadata": {
        "trusted": true,
        "id": "ymU1I1Sk52IW"
      },
      "source": [
        "# dropping index column\n",
        "df_India_sort.drop([\"index\"], axis=\"columns\", inplace=True)\n",
        "df_India_sort"
      ],
      "execution_count": null,
      "outputs": []
    },
    {
      "cell_type": "markdown",
      "metadata": {
        "id": "y1It-J3w52IX"
      },
      "source": [
        "Code to create stacked bar chart for top 10 states with highest no. of active cases"
      ]
    },
    {
      "cell_type": "code",
      "metadata": {
        "trusted": true,
        "id": "kFdyEmOc52IX"
      },
      "source": [
        "x = df_India_sort[\"Province/State\"].head(10)\n",
        "y1 = df_India_sort[\"Confirmed\"].head(10)\n",
        "y2 = df_India_sort[\"Deaths\"].head(10)\n",
        "y3 = df_India_sort[\"Recovered\"].head(10)\n",
        "y4 = df_India_sort[\"Active\"].head(10)\n",
        "\n",
        "f, ax = plt.subplots(figsize=(18, 5))\n",
        "plt.bar(x, y1, color=\"r\")\n",
        "plt.bar(x, y2, bottom=y1, color=\"b\")\n",
        "plt.bar(x, y3, bottom=y1 + y2, color=\"y\")\n",
        "plt.bar(x, y4, bottom=y1 + y2 + y3, color=\"g\")\n",
        "plt.xlabel(\"Indian States\")\n",
        "plt.ylabel(\"No. of Cases\")\n",
        "plt.legend([\"Confirmed\", \"Deaths\", \"Recovered\", \"Active\"])\n",
        "plt.title(\"Top 10 states with highest no. of active cases\")\n",
        "plt.show()"
      ],
      "execution_count": null,
      "outputs": []
    },
    {
      "cell_type": "markdown",
      "metadata": {
        "id": "sfqKakkg52IY"
      },
      "source": [
        "Q4. As a continuation of point 3 - what has the trend been in the worst-hit state in India?\n"
      ]
    },
    {
      "cell_type": "code",
      "metadata": {
        "trusted": true,
        "id": "8tpVXse752IZ"
      },
      "source": [
        "# Extracting data for only Maharashtra\n",
        "\n",
        "df_Maha = df_proc[df_proc[\"Province/State\"] == \"Maharashtra\"].reset_index()\n",
        "df_Maha"
      ],
      "execution_count": null,
      "outputs": []
    },
    {
      "cell_type": "code",
      "metadata": {
        "trusted": true,
        "id": "osKsRASZ52Ia"
      },
      "source": [
        "# sorting maharashtra data using observation date\n",
        "df_Maha[\"ObservationDate\"] = pd.to_datetime(\n",
        "    df_Maha[\"ObservationDate\"], format=\"%m/%d/%Y\", utc=True\n",
        ")\n",
        "df_Maha_sort = df_Maha.sort_values([\"ObservationDate\"], ascending=True).reset_index()\n",
        "df_Maha_sort"
      ],
      "execution_count": null,
      "outputs": []
    },
    {
      "cell_type": "code",
      "metadata": {
        "trusted": true,
        "id": "b97tjkRd52Ib"
      },
      "source": [
        "# Trend of death, recovered, confirmed\n",
        "\n",
        "plt.scatter(\n",
        "    np.arange(0, len(df_Maha_sort)),\n",
        "    df_Maha_sort[\"Confirmed\"],\n",
        "    color=\"blue\",\n",
        "    label=\"Confirmed\",\n",
        ")\n",
        "plt.scatter(\n",
        "    np.arange(0, len(df_Maha_sort)),\n",
        "    df_Maha_sort[\"Recovered\"],\n",
        "    color=\"green\",\n",
        "    label=\"Recovered\",\n",
        ")\n",
        "plt.scatter(\n",
        "    np.arange(0, len(df_Maha_sort)), df_Maha_sort[\"Deaths\"], color=\"red\", label=\"Deaths\"\n",
        ")\n",
        "plt.title(\"Maharashtra\")\n",
        "plt.xlabel(\"Days since the first suspect\")\n",
        "plt.ylabel(\"Number of cases\")\n",
        "plt.legend()\n",
        "plt.show()"
      ],
      "execution_count": null,
      "outputs": []
    },
    {
      "cell_type": "markdown",
      "metadata": {
        "id": "n_A-ni2b52Ic"
      },
      "source": [
        "# MODELING"
      ]
    },
    {
      "cell_type": "markdown",
      "metadata": {
        "id": "c4Yt-sic52Ic"
      },
      "source": [
        "Q4) Based on the history of the rate of growth of cases, can we provide some projections on how many hospital beds/oxygen tanks will be required tomorrow?"
      ]
    },
    {
      "cell_type": "code",
      "metadata": {
        "trusted": true,
        "id": "L98Ez0_452Id"
      },
      "source": [
        "# importing libraries\n",
        "import seaborn as sns\n",
        "from sklearn.model_selection import train_test_split"
      ],
      "execution_count": null,
      "outputs": []
    },
    {
      "cell_type": "code",
      "metadata": {
        "trusted": true,
        "id": "yr-aVmQ452Id"
      },
      "source": [
        "# Calculating total no. of confirmed, deaths,recovered cases for each observation date\n",
        "df_proc = df_proc.groupby([\"ObservationDate\"]).agg(\n",
        "    {\"Confirmed\": \"sum\", \"Deaths\": \"sum\", \"Recovered\": \"sum\"}\n",
        ")\n",
        "# Caculating active cases and sorting in descending order\n",
        "df_proc[\"Active\"] = df_proc[\"Confirmed\"] - df_proc[\"Deaths\"] - df_proc[\"Recovered\"]\n",
        "df_proc = df_proc.sort_values(by=[\"ObservationDate\"], ascending=True)\n",
        "df_proc.head()"
      ],
      "execution_count": null,
      "outputs": []
    },
    {
      "cell_type": "code",
      "metadata": {
        "trusted": true,
        "id": "_ic2lfF052If"
      },
      "source": [
        "# Feature Engineering\n",
        "data = df_proc[[\"Active\"]]\n",
        "data.head()"
      ],
      "execution_count": null,
      "outputs": []
    },
    {
      "cell_type": "code",
      "metadata": {
        "trusted": true,
        "id": "Cikmh9kX52If"
      },
      "source": [
        "print(data.loc[:, \"Active\"].shift(1))"
      ],
      "execution_count": null,
      "outputs": []
    },
    {
      "cell_type": "code",
      "metadata": {
        "trusted": true,
        "id": "h1MkGMyK52Ig"
      },
      "source": [
        "# Feature Engineering\n",
        "data = df_proc[[\"Active\"]]\n",
        "\n",
        "data.loc[:, \"-1\"] = data.loc[:, \"Active\"].shift(1)\n",
        "data.loc[:, \"-3\"] = data.loc[:, \"Active\"].shift(3)\n",
        "data.loc[:, \"-5\"] = data.loc[:, \"Active\"].shift(5)\n",
        "\n",
        "# dropping NAs\n",
        "data = data.dropna()\n",
        "data.head()"
      ],
      "execution_count": null,
      "outputs": []
    },
    {
      "cell_type": "code",
      "metadata": {
        "trusted": true,
        "id": "iJ-TYsSp52Ih"
      },
      "source": [
        "X_train = data.head(int(data.shape[0] / 1.2)).drop([\"Active\"], axis=1)\n",
        "y_train = data.head(int(data.shape[0] / 1.2))[\"Active\"]\n",
        "X_test = data.tail(int(data.shape[0] / 1.2)).drop([\"Active\"], axis=1)\n",
        "y_test = data.tail(int(data.shape[0] / 1.2))[\"Active\"]"
      ],
      "execution_count": null,
      "outputs": []
    },
    {
      "cell_type": "code",
      "metadata": {
        "trusted": true,
        "id": "EAxApfMj52Ii"
      },
      "source": [
        "X_train"
      ],
      "execution_count": null,
      "outputs": []
    },
    {
      "cell_type": "code",
      "metadata": {
        "trusted": true,
        "id": "okVSNe6z52Ij"
      },
      "source": [
        "\"\"\"\n",
        "from sklearn.preprocessing import StandardScaler\n",
        "\n",
        "sc = StandardScaler()\n",
        "X_train = sc.fit_transform(X_train)\n",
        "X_test = sc.transform(X_test)\n",
        "\n",
        "X_train\n",
        "\"\"\""
      ],
      "execution_count": null,
      "outputs": []
    },
    {
      "cell_type": "code",
      "metadata": {
        "trusted": true,
        "id": "RgS2VpTN52Ik"
      },
      "source": [
        "def regression_results(y_true, y_pred):\n",
        "    mse = metrics.mean_squared_error(y_true, y_pred)\n",
        "    r2 = metrics.r2_score(y_true, y_pred)\n",
        "    print(\"r2: \", round(r2, 4))\n",
        "    print(\"MSE: \", round(mse, 4))"
      ],
      "execution_count": null,
      "outputs": []
    },
    {
      "cell_type": "markdown",
      "metadata": {
        "id": "mEF62rbm52Ik"
      },
      "source": [
        "# RF"
      ]
    },
    {
      "cell_type": "code",
      "metadata": {
        "trusted": true,
        "id": "QnBKuFBc52Il"
      },
      "source": [
        "import sklearn.metrics as metrics\n",
        "from sklearn.ensemble import RandomForestRegressor\n",
        "\n",
        "model = RandomForestRegressor(n_estimators=1000, random_state=42)\n",
        "model.fit(X_train, y_train)"
      ],
      "execution_count": null,
      "outputs": []
    },
    {
      "cell_type": "code",
      "metadata": {
        "trusted": true,
        "id": "Fnuz155C52Im"
      },
      "source": [
        "y_true = y_test.values\n",
        "y_pred = model.predict(X_test)\n",
        "regression_results(y_true, y_pred)"
      ],
      "execution_count": null,
      "outputs": []
    },
    {
      "cell_type": "code",
      "metadata": {
        "trusted": true,
        "id": "N3xML0Ie52Im"
      },
      "source": [
        "print(X_test.values[0:2], y_true[0:2], y_pred[0:2])"
      ],
      "execution_count": null,
      "outputs": []
    },
    {
      "cell_type": "code",
      "metadata": {
        "trusted": true,
        "id": "dq8ZX0YV52In"
      },
      "source": [
        "o_pred = []\n",
        "o_true = []\n",
        "for i in range(1, 25):\n",
        "    o_pred.append([y_true[i]])\n",
        "    o_true.append([y_pred[i]])\n",
        "plt.figure(figsize=(9, 5))\n",
        "plt.plot(o_pred, \"g\", label=\"Predicted no. of active cases\")\n",
        "plt.plot(o_true, \"b\", label=\"Actual no. of active cases\")\n",
        "plt.xlabel(\"No. of samples\")\n",
        "plt.ylabel(\"No. of active cases\")\n",
        "plt.legend()\n",
        "plt.show()"
      ],
      "execution_count": null,
      "outputs": []
    }
  ]
}